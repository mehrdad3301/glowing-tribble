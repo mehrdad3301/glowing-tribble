{
 "cells": [
  {
   "cell_type": "code",
   "execution_count": 1,
   "id": "6156c31a",
   "metadata": {},
   "outputs": [],
   "source": [
    "import numpy as np "
   ]
  },
  {
   "cell_type": "code",
   "execution_count": 66,
   "id": "4f74e4b1",
   "metadata": {},
   "outputs": [],
   "source": [
    "class State : \n",
    "    def __init__(self, board=None) : \n",
    "        if board is not None : \n",
    "            self.board = board \n",
    "        else : \n",
    "            self.board = np.zeros((3,3))\n",
    "    \n",
    "    def is_terminal(self) :  \n",
    "        def check(x) : \n",
    "            if len(np.unique(x)) == 1\\\n",
    "            and x[0] != 0 : \n",
    "                return True, x[0] \n",
    "            return False, None \n",
    "\n",
    "        if not np.any(self.board == 0) : \n",
    "            return 0 \n",
    "            \n",
    "        ok, v = check(np.diag(self.board))\n",
    "        if ok : \n",
    "            return v \n",
    "        ok, v = check(np.diag(np.fliplr(self.board)))\n",
    "        if ok : \n",
    "            return v \n",
    "        \n",
    "        for i in range(3) : \n",
    "            ok, v = check(self.board[:,i])\n",
    "            if ok : \n",
    "                return v \n",
    "            ok, v = check(self.board[i,:]) \n",
    "            if ok : \n",
    "                return v \n",
    "           \n",
    "        return -2\n",
    "        \n",
    "    def next_actions(self) : \n",
    "        for x in range(3) : \n",
    "            for y in range(3) :\n",
    "                if self.board[x][y] == 0 : \n",
    "                    yield x, y \n",
    "                    \n",
    "    def move(self, x, y, player) : \n",
    "        board = self.board.copy() \n",
    "        board[x][y] = player  \n",
    "        return State(board)\n",
    "        "
   ]
  },
  {
   "cell_type": "code",
   "execution_count": 69,
   "id": "3d343bcf",
   "metadata": {},
   "outputs": [],
   "source": [
    "from math import inf\n",
    "def minimax(state, player) : \n",
    "    if player == 1 : \n",
    "        _, move = max_(state) \n",
    "    else : \n",
    "        _, move = min_(state)\n",
    "    return move\n",
    "    \n",
    "def max_(state) : \n",
    "    \n",
    "    v = state.is_terminal() \n",
    "    if v != -2 :\n",
    "        return v, None \n",
    "    v, move = -inf, None\n",
    "     \n",
    "    for action in state.next_actions() : \n",
    "        v_, _ = min_(state.move(*action, 1))\n",
    "        if v_ > v : \n",
    "            v, move = v_, action \n",
    "    return v, move\n",
    "\n",
    "def min_(state) : \n",
    "    v = state.is_terminal() \n",
    "    if v != -2 : \n",
    "        return v, None \n",
    "    v, move = inf, None\n",
    "    for action in state.next_actions() : \n",
    "        v_, _ = max_(state.move(*action, -1))\n",
    "        if v_ < v : \n",
    "            v, move = v_, action \n",
    "    return v, move "
   ]
  },
  {
   "cell_type": "code",
   "execution_count": 79,
   "id": "d90773f0",
   "metadata": {},
   "outputs": [
    {
     "data": {
      "text/plain": [
       "(1, 2)"
      ]
     },
     "execution_count": 79,
     "metadata": {},
     "output_type": "execute_result"
    }
   ],
   "source": [
    "m = State(np.array([[1, 1, -1], [-1, -1, 0], [1, 0, 0]]))\n",
    "minimax(m, 1)"
   ]
  },
  {
   "cell_type": "code",
   "execution_count": null,
   "id": "fdf0d072",
   "metadata": {},
   "outputs": [],
   "source": []
  }
 ],
 "metadata": {
  "kernelspec": {
   "display_name": "Python 3 (ipykernel)",
   "language": "python",
   "name": "python3"
  },
  "language_info": {
   "codemirror_mode": {
    "name": "ipython",
    "version": 3
   },
   "file_extension": ".py",
   "mimetype": "text/x-python",
   "name": "python",
   "nbconvert_exporter": "python",
   "pygments_lexer": "ipython3",
   "version": "3.8.10"
  }
 },
 "nbformat": 4,
 "nbformat_minor": 5
}
