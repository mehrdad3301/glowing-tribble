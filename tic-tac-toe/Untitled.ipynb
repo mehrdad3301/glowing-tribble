{
 "cells": [
  {
   "cell_type": "code",
   "execution_count": 1,
   "id": "6156c31a",
   "metadata": {},
   "outputs": [],
   "source": [
    "import numpy as np \n",
    "human, bot = 1, -1 "
   ]
  },
  {
   "cell_type": "code",
   "execution_count": 14,
   "id": "4f74e4b1",
   "metadata": {},
   "outputs": [],
   "source": [
    "class State : \n",
    "    def __init__(self, board=None) : \n",
    "        if board is not None : \n",
    "            self.board = board \n",
    "        else : \n",
    "            self.board = np.zeros((3,3))\n",
    "\n",
    "    def next_actions(self) : \n",
    "        for x in range(3) : \n",
    "            for y in range(3) :\n",
    "                if self.board[x][y] == 0 : \n",
    "                    yield x, y \n",
    "\n",
    "    def next_state(self, x, y, player) : \n",
    "        board = self.board.copy() \n",
    "        board[x][y] = player  \n",
    "        return State(board)\n",
    "    \n",
    "    def move(self, x, y, player) : \n",
    "        self.board[x][y] = player \n",
    "    \n",
    "    def print_board(self) : \n",
    "        for i in range(3) : \n",
    "            for j in range(3) : \n",
    "                v = ' '\n",
    "                if self.board[i][j] == 1 : \n",
    "                    v = 'X' \n",
    "                elif self.board[i][j] == -1 : \n",
    "                    v = 'O'\n",
    "                end = ''\n",
    "                if j != 2 : \n",
    "                    end = ' | '\n",
    "                print(v, end=end) \n",
    "            print()\n",
    "            if i != 2 :\n",
    "                print('---------')\n",
    "        print() \n",
    "    \n",
    "    def is_terminal(self) :  \n",
    "        def is_draw() :  \n",
    "            if not np.any(self.board == 0) : \n",
    "                return True \n",
    "            return False \n",
    "\n",
    "        def is_valid(line) : \n",
    "            if len(np.unique(line)) == 1\\\n",
    "            and line[0] != 0 : \n",
    "                return True\n",
    "            return False\n",
    "\n",
    "        def check_diagonal() : \n",
    "            if is_valid(np.diag(self.board)) \\\n",
    "            or is_valid(np.diag(np.fliplr(self.board))) : \n",
    "                return True \n",
    "            else : \n",
    "                return False \n",
    "\n",
    "        def check_row_col() : \n",
    "            for i in range(3) : \n",
    "                if is_valid(self.board[:,i]) : \n",
    "                    return True, self.board[0,i] \n",
    "                if is_valid(self.board[i,:]) : \n",
    "                    return True, self.board[i][0] \n",
    "            return False, None \n",
    "\n",
    "        if is_draw() : \n",
    "            return 0  \n",
    "        if check_diagonal() : \n",
    "            return self.board[1][1] \n",
    "        ok, v = check_row_col()\n",
    "        if ok : \n",
    "            return v \n",
    "        return -2 \n",
    "\n",
    "    "
   ]
  },
  {
   "cell_type": "code",
   "execution_count": 3,
   "id": "3d343bcf",
   "metadata": {},
   "outputs": [],
   "source": [
    "from math import inf\n",
    "def minimax(state, player) : \n",
    "    if player == human : \n",
    "        _, move = max_(state) \n",
    "    else : \n",
    "        _, move = min_(state)\n",
    "    return move\n",
    "    \n",
    "def max_(state) : \n",
    "    \n",
    "    v = state.is_terminal() \n",
    "    if v != -2 :\n",
    "        return v, None \n",
    "    v, move = -inf, None\n",
    "     \n",
    "    for action in state.next_actions() : \n",
    "        v_, _ = min_(state.next_state(*action, human))\n",
    "        if v_ > v : \n",
    "            v, move = v_, action \n",
    "    return v, move\n",
    "\n",
    "def min_(state) : \n",
    "    v = state.is_terminal() \n",
    "    if v != -2 : \n",
    "        return v, None \n",
    "    v, move = inf, None\n",
    "    for action in state.next_actions() : \n",
    "        v_, _ = max_(state.next_state(*action, bot))\n",
    "        if v_ < v : \n",
    "            v, move = v_, action \n",
    "    return v, move "
   ]
  },
  {
   "cell_type": "code",
   "execution_count": null,
   "id": "fdf0d072",
   "metadata": {},
   "outputs": [],
   "source": [
    "game = State() \n",
    "while True : \n",
    "    if game.is_terminal() != -2 : \n",
    "        break \n",
    "    game.print_board() \n",
    "    print(\"choose your move: \") \n",
    "    x, y = map(int ,input().split(','))\n",
    "    game.move(x, y, human)\n",
    "    x_, y_ = minimax(game, bot) \n",
    "    print(f\"computer chose {x_} {y_}\")\n",
    "    game.move(x_, y_, bot)"
   ]
  },
  {
   "cell_type": "code",
   "execution_count": 15,
   "id": "c4ed46b3",
   "metadata": {},
   "outputs": [
    {
     "name": "stdout",
     "output_type": "stream",
     "text": [
      "X | O | O\n",
      "---------\n",
      "X | X | X\n",
      "---------\n",
      "O |   | O\n",
      "\n"
     ]
    },
    {
     "data": {
      "text/plain": [
       "1"
      ]
     },
     "execution_count": 15,
     "metadata": {},
     "output_type": "execute_result"
    }
   ],
   "source": [
    "b = State(np.array([[1,-1,-1],[1,1,1],[-1,0,-1]]))\n",
    "b.print_board()\n",
    "b.is_terminal()"
   ]
  },
  {
   "cell_type": "code",
   "execution_count": 8,
   "id": "4bf5707d",
   "metadata": {},
   "outputs": [
    {
     "data": {
      "text/plain": [
       "False"
      ]
     },
     "execution_count": 8,
     "metadata": {},
     "output_type": "execute_result"
    }
   ],
   "source": [
    "np.any(b.board == 0) "
   ]
  },
  {
   "cell_type": "code",
   "execution_count": 10,
   "id": "27f2aadf",
   "metadata": {},
   "outputs": [
    {
     "data": {
      "text/plain": [
       "False"
      ]
     },
     "execution_count": 10,
     "metadata": {},
     "output_type": "execute_result"
    }
   ],
   "source": [
    "b.board == 1"
   ]
  },
  {
   "cell_type": "code",
   "execution_count": null,
   "id": "5f37d9d1",
   "metadata": {},
   "outputs": [],
   "source": []
  }
 ],
 "metadata": {
  "kernelspec": {
   "display_name": "Python 3 (ipykernel)",
   "language": "python",
   "name": "python3"
  },
  "language_info": {
   "codemirror_mode": {
    "name": "ipython",
    "version": 3
   },
   "file_extension": ".py",
   "mimetype": "text/x-python",
   "name": "python",
   "nbconvert_exporter": "python",
   "pygments_lexer": "ipython3",
   "version": "3.8.10"
  }
 },
 "nbformat": 4,
 "nbformat_minor": 5
}
