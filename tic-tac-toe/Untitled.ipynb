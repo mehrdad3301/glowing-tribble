{
 "cells": [
  {
   "cell_type": "code",
   "execution_count": 144,
   "id": "6156c31a",
   "metadata": {},
   "outputs": [],
   "source": [
    "import numpy as np "
   ]
  },
  {
   "cell_type": "code",
   "execution_count": 145,
   "id": "4f74e4b1",
   "metadata": {},
   "outputs": [],
   "source": [
    "class State : \n",
    "    def __init__(self, board=None) : \n",
    "        if board is not None : \n",
    "            self.board = board \n",
    "        else : \n",
    "            self.board = np.zeros((3,3))\n",
    "\n",
    "    def next_actions(self) : \n",
    "        for x in range(3) : \n",
    "            for y in range(3) :\n",
    "                if self.board[x][y] == 0 : \n",
    "                    yield x, y \n",
    "\n",
    "    def next_state(self, x, y, player) : \n",
    "        board = self.board.copy() \n",
    "        board[x][y] = player  \n",
    "        return State(board)\n",
    "    \n",
    "    def move(self, x, y, player) : \n",
    "        self.board[x][y] = player \n",
    "    \n",
    "    def is_terminal(self) :  \n",
    "        def is_draw() :  \n",
    "            if not np.any(self.board == 0) : \n",
    "                return True \n",
    "            return False \n",
    "\n",
    "        def is_valid(line) : \n",
    "            if len(np.unique(line)) == 1\\\n",
    "            and line[0] != 0 : \n",
    "                return True\n",
    "            return False\n",
    "\n",
    "        def check_diagonal() : \n",
    "            if is_valid(np.diag(self.board)) \\\n",
    "            or is_valid(np.diag(np.fliplr(self.board))) : \n",
    "                return True \n",
    "            else : \n",
    "                return False \n",
    "\n",
    "        def check_row_col() : \n",
    "            for i in range(3) : \n",
    "                if is_valid(self.board[:,i]) : \n",
    "                    return True, self.board[0,i] \n",
    "                if is_valid(self.board[i,:]) : \n",
    "                    return True, self.board[i][0] \n",
    "                return False, None \n",
    "\n",
    "        if is_draw() : \n",
    "            return 0  \n",
    "        if check_diagonal() : \n",
    "            return self.board[1][1] \n",
    "        ok, v = check_row_col()\n",
    "        if ok : \n",
    "            return v \n",
    "        return -2 \n",
    "\n",
    "    "
   ]
  },
  {
   "cell_type": "code",
   "execution_count": 148,
   "id": "3d343bcf",
   "metadata": {},
   "outputs": [],
   "source": [
    "from math import inf\n",
    "def minimax(state, player) : \n",
    "    if player == 1 : \n",
    "        _, move = max_(state) \n",
    "    else : \n",
    "        _, move = min_(state)\n",
    "    return move\n",
    "    \n",
    "def max_(state) : \n",
    "    \n",
    "    v = state.is_terminal() \n",
    "    if v != -2 :\n",
    "        return v, None \n",
    "    v, move = -inf, None\n",
    "     \n",
    "    for action in state.next_actions() : \n",
    "        v_, _ = min_(state.move(*action, 1))\n",
    "        if v_ > v : \n",
    "            v, move = v_, action \n",
    "    return v, move\n",
    "\n",
    "def min_(state) : \n",
    "    v = state.is_terminal() \n",
    "    if v != -2 : \n",
    "        return v, None \n",
    "    v, move = inf, None\n",
    "    for action in state.next_actions() : \n",
    "        v_, _ = max_(state.move(*action, -1))\n",
    "        if v_ < v : \n",
    "            v, move = v_, action \n",
    "    return v, move "
   ]
  },
  {
   "cell_type": "code",
   "execution_count": 139,
   "id": "d90773f0",
   "metadata": {},
   "outputs": [
    {
     "data": {
      "text/plain": [
       "(1, 2)"
      ]
     },
     "execution_count": 139,
     "metadata": {},
     "output_type": "execute_result"
    }
   ],
   "source": [
    "m = State(np.array([[1, 1, -1], [-1, -1, 0], [1, 0, 0]]))\n",
    "minimax(m, 1)"
   ]
  },
  {
   "cell_type": "code",
   "execution_count": 149,
   "id": "fdf0d072",
   "metadata": {},
   "outputs": [
    {
     "name": "stdout",
     "output_type": "stream",
     "text": [
      "[[0. 0. 0.]\n",
      " [0. 0. 0.]\n",
      " [0. 0. 0.]]\n",
      "choose your move: \n",
      "0,0\n"
     ]
    },
    {
     "ename": "AttributeError",
     "evalue": "'NoneType' object has no attribute 'is_terminal'",
     "output_type": "error",
     "traceback": [
      "\u001b[0;31m---------------------------------------------------------------------------\u001b[0m",
      "\u001b[0;31mAttributeError\u001b[0m                            Traceback (most recent call last)",
      "\u001b[0;32m/tmp/ipykernel_8502/1446299137.py\u001b[0m in \u001b[0;36m<module>\u001b[0;34m\u001b[0m\n\u001b[1;32m      7\u001b[0m     \u001b[0mx\u001b[0m\u001b[0;34m,\u001b[0m \u001b[0my\u001b[0m \u001b[0;34m=\u001b[0m \u001b[0mmap\u001b[0m\u001b[0;34m(\u001b[0m\u001b[0mint\u001b[0m \u001b[0;34m,\u001b[0m\u001b[0minput\u001b[0m\u001b[0;34m(\u001b[0m\u001b[0;34m)\u001b[0m\u001b[0;34m.\u001b[0m\u001b[0msplit\u001b[0m\u001b[0;34m(\u001b[0m\u001b[0;34m','\u001b[0m\u001b[0;34m)\u001b[0m\u001b[0;34m)\u001b[0m\u001b[0;34m\u001b[0m\u001b[0;34m\u001b[0m\u001b[0m\n\u001b[1;32m      8\u001b[0m     \u001b[0mgame\u001b[0m\u001b[0;34m.\u001b[0m\u001b[0mboard\u001b[0m\u001b[0;34m[\u001b[0m\u001b[0mx\u001b[0m\u001b[0;34m]\u001b[0m\u001b[0;34m[\u001b[0m\u001b[0my\u001b[0m\u001b[0;34m]\u001b[0m \u001b[0;34m=\u001b[0m \u001b[0;36m1\u001b[0m\u001b[0;34m\u001b[0m\u001b[0;34m\u001b[0m\u001b[0m\n\u001b[0;32m----> 9\u001b[0;31m     \u001b[0mx_\u001b[0m\u001b[0;34m,\u001b[0m \u001b[0my_\u001b[0m \u001b[0;34m=\u001b[0m \u001b[0mminimax\u001b[0m\u001b[0;34m(\u001b[0m\u001b[0mgame\u001b[0m\u001b[0;34m,\u001b[0m \u001b[0;34m-\u001b[0m\u001b[0;36m1\u001b[0m\u001b[0;34m)\u001b[0m\u001b[0;34m\u001b[0m\u001b[0;34m\u001b[0m\u001b[0m\n\u001b[0m\u001b[1;32m     10\u001b[0m     \u001b[0mprint\u001b[0m\u001b[0;34m(\u001b[0m\u001b[0;34mf\"computer chose {x_} {y_}\"\u001b[0m\u001b[0;34m)\u001b[0m\u001b[0;34m\u001b[0m\u001b[0;34m\u001b[0m\u001b[0m\n\u001b[1;32m     11\u001b[0m     \u001b[0mgame\u001b[0m\u001b[0;34m.\u001b[0m\u001b[0mboard\u001b[0m\u001b[0;34m[\u001b[0m\u001b[0mx_\u001b[0m\u001b[0;34m]\u001b[0m\u001b[0;34m[\u001b[0m\u001b[0my_\u001b[0m\u001b[0;34m]\u001b[0m \u001b[0;34m=\u001b[0m \u001b[0;34m-\u001b[0m\u001b[0;36m1\u001b[0m\u001b[0;34m\u001b[0m\u001b[0;34m\u001b[0m\u001b[0m\n",
      "\u001b[0;32m/tmp/ipykernel_8502/3567007511.py\u001b[0m in \u001b[0;36mminimax\u001b[0;34m(state, player)\u001b[0m\n\u001b[1;32m      4\u001b[0m         \u001b[0m_\u001b[0m\u001b[0;34m,\u001b[0m \u001b[0mmove\u001b[0m \u001b[0;34m=\u001b[0m \u001b[0mmax_\u001b[0m\u001b[0;34m(\u001b[0m\u001b[0mstate\u001b[0m\u001b[0;34m)\u001b[0m\u001b[0;34m\u001b[0m\u001b[0;34m\u001b[0m\u001b[0m\n\u001b[1;32m      5\u001b[0m     \u001b[0;32melse\u001b[0m \u001b[0;34m:\u001b[0m\u001b[0;34m\u001b[0m\u001b[0;34m\u001b[0m\u001b[0m\n\u001b[0;32m----> 6\u001b[0;31m         \u001b[0m_\u001b[0m\u001b[0;34m,\u001b[0m \u001b[0mmove\u001b[0m \u001b[0;34m=\u001b[0m \u001b[0mmin_\u001b[0m\u001b[0;34m(\u001b[0m\u001b[0mstate\u001b[0m\u001b[0;34m)\u001b[0m\u001b[0;34m\u001b[0m\u001b[0;34m\u001b[0m\u001b[0m\n\u001b[0m\u001b[1;32m      7\u001b[0m     \u001b[0;32mreturn\u001b[0m \u001b[0mmove\u001b[0m\u001b[0;34m\u001b[0m\u001b[0;34m\u001b[0m\u001b[0m\n\u001b[1;32m      8\u001b[0m \u001b[0;34m\u001b[0m\u001b[0m\n",
      "\u001b[0;32m/tmp/ipykernel_8502/3567007511.py\u001b[0m in \u001b[0;36mmin_\u001b[0;34m(state)\u001b[0m\n\u001b[1;32m     26\u001b[0m     \u001b[0mv\u001b[0m\u001b[0;34m,\u001b[0m \u001b[0mmove\u001b[0m \u001b[0;34m=\u001b[0m \u001b[0minf\u001b[0m\u001b[0;34m,\u001b[0m \u001b[0;32mNone\u001b[0m\u001b[0;34m\u001b[0m\u001b[0;34m\u001b[0m\u001b[0m\n\u001b[1;32m     27\u001b[0m     \u001b[0;32mfor\u001b[0m \u001b[0maction\u001b[0m \u001b[0;32min\u001b[0m \u001b[0mstate\u001b[0m\u001b[0;34m.\u001b[0m\u001b[0mnext_actions\u001b[0m\u001b[0;34m(\u001b[0m\u001b[0;34m)\u001b[0m \u001b[0;34m:\u001b[0m\u001b[0;34m\u001b[0m\u001b[0;34m\u001b[0m\u001b[0m\n\u001b[0;32m---> 28\u001b[0;31m         \u001b[0mv_\u001b[0m\u001b[0;34m,\u001b[0m \u001b[0m_\u001b[0m \u001b[0;34m=\u001b[0m \u001b[0mmax_\u001b[0m\u001b[0;34m(\u001b[0m\u001b[0mstate\u001b[0m\u001b[0;34m.\u001b[0m\u001b[0mmove\u001b[0m\u001b[0;34m(\u001b[0m\u001b[0;34m*\u001b[0m\u001b[0maction\u001b[0m\u001b[0;34m,\u001b[0m \u001b[0;34m-\u001b[0m\u001b[0;36m1\u001b[0m\u001b[0;34m)\u001b[0m\u001b[0;34m)\u001b[0m\u001b[0;34m\u001b[0m\u001b[0;34m\u001b[0m\u001b[0m\n\u001b[0m\u001b[1;32m     29\u001b[0m         \u001b[0;32mif\u001b[0m \u001b[0mv_\u001b[0m \u001b[0;34m<\u001b[0m \u001b[0mv\u001b[0m \u001b[0;34m:\u001b[0m\u001b[0;34m\u001b[0m\u001b[0;34m\u001b[0m\u001b[0m\n\u001b[1;32m     30\u001b[0m             \u001b[0mv\u001b[0m\u001b[0;34m,\u001b[0m \u001b[0mmove\u001b[0m \u001b[0;34m=\u001b[0m \u001b[0mv_\u001b[0m\u001b[0;34m,\u001b[0m \u001b[0maction\u001b[0m\u001b[0;34m\u001b[0m\u001b[0;34m\u001b[0m\u001b[0m\n",
      "\u001b[0;32m/tmp/ipykernel_8502/3567007511.py\u001b[0m in \u001b[0;36mmax_\u001b[0;34m(state)\u001b[0m\n\u001b[1;32m      9\u001b[0m \u001b[0;32mdef\u001b[0m \u001b[0mmax_\u001b[0m\u001b[0;34m(\u001b[0m\u001b[0mstate\u001b[0m\u001b[0;34m)\u001b[0m \u001b[0;34m:\u001b[0m\u001b[0;34m\u001b[0m\u001b[0;34m\u001b[0m\u001b[0m\n\u001b[1;32m     10\u001b[0m \u001b[0;34m\u001b[0m\u001b[0m\n\u001b[0;32m---> 11\u001b[0;31m     \u001b[0mv\u001b[0m \u001b[0;34m=\u001b[0m \u001b[0mstate\u001b[0m\u001b[0;34m.\u001b[0m\u001b[0mis_terminal\u001b[0m\u001b[0;34m(\u001b[0m\u001b[0;34m)\u001b[0m\u001b[0;34m\u001b[0m\u001b[0;34m\u001b[0m\u001b[0m\n\u001b[0m\u001b[1;32m     12\u001b[0m     \u001b[0;32mif\u001b[0m \u001b[0mv\u001b[0m \u001b[0;34m!=\u001b[0m \u001b[0;34m-\u001b[0m\u001b[0;36m2\u001b[0m \u001b[0;34m:\u001b[0m\u001b[0;34m\u001b[0m\u001b[0;34m\u001b[0m\u001b[0m\n\u001b[1;32m     13\u001b[0m         \u001b[0;32mreturn\u001b[0m \u001b[0mv\u001b[0m\u001b[0;34m,\u001b[0m \u001b[0;32mNone\u001b[0m\u001b[0;34m\u001b[0m\u001b[0;34m\u001b[0m\u001b[0m\n",
      "\u001b[0;31mAttributeError\u001b[0m: 'NoneType' object has no attribute 'is_terminal'"
     ]
    }
   ],
   "source": [
    "game = State() \n",
    "while True : \n",
    "    if game.is_terminal() != -2 : \n",
    "        break \n",
    "    print(game.board) \n",
    "    print(\"choose your move: \") \n",
    "    x, y = map(int ,input().split(','))\n",
    "    game.board[x][y] = 1\n",
    "    x_, y_ = minimax(game, -1) \n",
    "    print(f\"computer chose {x_} {y_}\")\n",
    "    game.board[x_][y_] = -1 \n"
   ]
  },
  {
   "cell_type": "code",
   "execution_count": 143,
   "id": "57b80e92",
   "metadata": {},
   "outputs": [
    {
     "data": {
      "text/plain": [
       "([5, 2, 3], [5, 2, 3])"
      ]
     },
     "execution_count": 143,
     "metadata": {},
     "output_type": "execute_result"
    }
   ],
   "source": [
    "x = [1 , 2 ,3] \n",
    "y = x \n",
    "y[0] = 5 \n",
    "x, y"
   ]
  },
  {
   "cell_type": "code",
   "execution_count": null,
   "id": "4b38a521",
   "metadata": {},
   "outputs": [],
   "source": []
  }
 ],
 "metadata": {
  "kernelspec": {
   "display_name": "Python 3 (ipykernel)",
   "language": "python",
   "name": "python3"
  },
  "language_info": {
   "codemirror_mode": {
    "name": "ipython",
    "version": 3
   },
   "file_extension": ".py",
   "mimetype": "text/x-python",
   "name": "python",
   "nbconvert_exporter": "python",
   "pygments_lexer": "ipython3",
   "version": "3.8.8"
  }
 },
 "nbformat": 4,
 "nbformat_minor": 5
}
