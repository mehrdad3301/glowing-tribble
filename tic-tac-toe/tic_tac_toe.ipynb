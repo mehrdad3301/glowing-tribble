{
 "cells": [
  {
   "cell_type": "code",
   "execution_count": 6,
   "id": "6156c31a",
   "metadata": {},
   "outputs": [],
   "source": [
    "import numpy as np \n",
    "human, bot = 1, -1 "
   ]
  },
  {
   "cell_type": "markdown",
   "id": "8b0b1d6c",
   "metadata": {},
   "source": [
    "Next cell implements `State`. `State` implements many utility functions which will then be used in our implementation of the minimax algorithm. Any problem implmenting `next_actions`, `next_state` and `is_terminal` can be fed into minimax. "
   ]
  },
  {
   "cell_type": "code",
   "execution_count": 7,
   "id": "4f74e4b1",
   "metadata": {},
   "outputs": [],
   "source": [
    "class State :\n",
    "    def __init__(self, board=None) : \n",
    "        if board is not None : \n",
    "            self.board = board \n",
    "        else : \n",
    "            self.board = np.zeros((3,3))\n",
    "\n",
    "    def next_actions(self) : \n",
    "        \"\"\"\n",
    "        Returns a generator yielding empty \n",
    "        spots on the board.\n",
    "        \"\"\"\n",
    "        for x in range(3) : \n",
    "            for y in range(3) :\n",
    "                if self.board[x][y] == 0 : \n",
    "                    yield x, y \n",
    "\n",
    "    def next_state(self, x, y, player) : \n",
    "        \"\"\"\n",
    "        Setting empty cell (x, y) on the board\n",
    "        to player's move, which can be +1 or -1.\n",
    "        \"\"\"\n",
    "        board = self.board.copy() \n",
    "        board[x][y] = player  \n",
    "        return State(board)\n",
    "    \n",
    "    def move(self, x, y, player) : \n",
    "        self.board[x][y] = player \n",
    "    \n",
    "    def print_board(self) : \n",
    "        \"\"\"\n",
    "        Utility function to print the board\n",
    "        representing current state.\n",
    "        \"\"\"\n",
    "        for i in range(3) : \n",
    "            for j in range(3) : \n",
    "                v = ' '\n",
    "                if self.board[i][j] == 1 : \n",
    "                    v = 'X' \n",
    "                elif self.board[i][j] == -1 : \n",
    "                    v = 'O'\n",
    "                end = ''\n",
    "                if j != 2 : \n",
    "                    end = ' | '\n",
    "                print(v, end=end) \n",
    "            print()\n",
    "            if i != 2 :\n",
    "                print('---------')\n",
    "        print() \n",
    "    \n",
    "    def is_terminal(self) :  \n",
    "        \"\"\"\n",
    "        returns 0 in case of draw, \n",
    "                1 in case the human player wins. \n",
    "                -1 in case the bot wins.\n",
    "                -2 otherwise. \n",
    "        \"\"\"\n",
    "        def is_draw() :  \n",
    "            if not np.any(self.board == 0) : \n",
    "                return True \n",
    "            return False \n",
    "\n",
    "        def is_valid(line) : \n",
    "            if len(np.unique(line)) == 1\\\n",
    "            and line[0] != 0 : \n",
    "                return True\n",
    "            return False\n",
    "\n",
    "        def check_diagonal() : \n",
    "            if is_valid(np.diag(self.board)) \\\n",
    "            or is_valid(np.diag(np.fliplr(self.board))) : \n",
    "                return True \n",
    "            else : \n",
    "                return False \n",
    "\n",
    "        def check_row_col() : \n",
    "            for i in range(3) : \n",
    "                if is_valid(self.board[:,i]) : \n",
    "                    return True, self.board[0,i] \n",
    "                if is_valid(self.board[i,:]) : \n",
    "                    return True, self.board[i][0] \n",
    "            return False, None \n",
    "\n",
    "        if check_diagonal() : \n",
    "            return self.board[1][1] \n",
    "        ok, v = check_row_col()\n",
    "        if ok : \n",
    "            return v \n",
    "        if is_draw() : \n",
    "            return 0  \n",
    "        return -2 "
   ]
  },
  {
   "cell_type": "markdown",
   "id": "61a8aaaf",
   "metadata": {},
   "source": [
    "Next cell implements the minimax algorithm. The implementation strictly follows that of `AI: a modern approach`. Alpha-Beta pruning is used to shrink the search space. Since tic-tac-toe is \n",
    "an easy game, the problem is solved simply using minimax, Therefore the bot cannot be defeated and best you can get is a draw. Using minimax alone was enough to solve tic-tac-toe. However the algorithm still needed some time to explore the tree at first step. Using alpha-beta pruning reduced time to calculate the first move to `590ms` which is a huge improvement over previously `14.4s`."
   ]
  },
  {
   "cell_type": "code",
   "execution_count": 8,
   "id": "3d343bcf",
   "metadata": {},
   "outputs": [],
   "source": [
    "from math import inf\n",
    "def minimax(state, player) : \n",
    "    if player == human : \n",
    "        _, move = max_(state, -inf, inf) \n",
    "    else : \n",
    "        _, move = min_(state, -inf, inf)\n",
    "    return move\n",
    "    \n",
    "def max_(state, alpha, beta) : \n",
    "    \n",
    "    v = state.is_terminal() \n",
    "    if v != -2 :\n",
    "        return v, None \n",
    "    v, move = -inf, None\n",
    "     \n",
    "    for action in state.next_actions() : \n",
    "        v_, _ = min_(state.next_state(*action, human), alpha, beta)\n",
    "        if v_ > v : \n",
    "            v, move = v_, action \n",
    "            alpha = max(v, alpha)\n",
    "        if v >= beta : \n",
    "            return v, move \n",
    "    return v, move\n",
    "\n",
    "def min_(state, alpha, beta) : \n",
    "    v = state.is_terminal() \n",
    "    if v != -2 : \n",
    "        return v, None \n",
    "    v, move = inf, None\n",
    "    for action in state.next_actions() : \n",
    "        v_, _ = max_(state.next_state(*action, bot), alpha, beta)\n",
    "        if v_ < v : \n",
    "            v, move = v_, action \n",
    "            beta = min(beta, v) \n",
    "        if v <= alpha : \n",
    "            return v, move \n",
    "    return v, move "
   ]
  },
  {
   "cell_type": "markdown",
   "id": "fe30a4d0",
   "metadata": {},
   "source": [
    "Next I'll walk through steps involved in a game to test the bot. "
   ]
  },
  {
   "cell_type": "code",
   "execution_count": 11,
   "id": "fed0aaed",
   "metadata": {},
   "outputs": [
    {
     "name": "stdout",
     "output_type": "stream",
     "text": [
      "X |   |  \n",
      "---------\n",
      "  | O |  \n",
      "---------\n",
      "  |   |  \n",
      "\n"
     ]
    }
   ],
   "source": [
    "game = State() \n",
    "game.move(0, 0, human) \n",
    "x, y = minimax(game, bot) \n",
    "game.move(x, y, bot) \n",
    "game.print_board()"
   ]
  },
  {
   "cell_type": "code",
   "execution_count": 12,
   "id": "7d729bd8",
   "metadata": {},
   "outputs": [
    {
     "name": "stdout",
     "output_type": "stream",
     "text": [
      "X | O |  \n",
      "---------\n",
      "  | O |  \n",
      "---------\n",
      "  |   | X\n",
      "\n"
     ]
    }
   ],
   "source": [
    "game.move(2, 2, human)\n",
    "x, y = minimax(game, bot) \n",
    "game.move(x, y, bot) \n",
    "game.print_board()"
   ]
  },
  {
   "cell_type": "code",
   "execution_count": 13,
   "id": "2a618e13",
   "metadata": {},
   "outputs": [
    {
     "name": "stdout",
     "output_type": "stream",
     "text": [
      "X | O |  \n",
      "---------\n",
      "  | O |  \n",
      "---------\n",
      "O | X | X\n",
      "\n"
     ]
    }
   ],
   "source": [
    "game.move(2, 1, human)\n",
    "x, y = minimax(game, bot) \n",
    "game.move(x, y, bot) \n",
    "game.print_board()"
   ]
  },
  {
   "cell_type": "code",
   "execution_count": 14,
   "id": "e52de3c5",
   "metadata": {},
   "outputs": [
    {
     "name": "stdout",
     "output_type": "stream",
     "text": [
      "X | O | X\n",
      "---------\n",
      "  | O | O\n",
      "---------\n",
      "O | X | X\n",
      "\n"
     ]
    }
   ],
   "source": [
    "game.move(0, 2, human)\n",
    "x, y = minimax(game, bot) \n",
    "game.move(x, y, bot) \n",
    "game.print_board()"
   ]
  },
  {
   "cell_type": "markdown",
   "id": "7fcb9574",
   "metadata": {},
   "source": [
    "It is evident that the bot was able to get a draw. What if we make a mistake? Is it smart enough to exploit our mistake and win the game?"
   ]
  },
  {
   "cell_type": "code",
   "execution_count": 25,
   "id": "f922928f",
   "metadata": {},
   "outputs": [
    {
     "name": "stdout",
     "output_type": "stream",
     "text": [
      "X | O |  \n",
      "---------\n",
      "  | O |  \n",
      "---------\n",
      "  |   | X\n",
      "\n"
     ]
    }
   ],
   "source": [
    "game = State() \n",
    "game.move(0, 0, human)\n",
    "x, y = minimax(game, bot) \n",
    "game.move(x, y, bot)\n",
    "game.move(2, 2, human)\n",
    "x, y = minimax(game, bot) \n",
    "game.move(x, y, bot)\n",
    "game.print_board()"
   ]
  },
  {
   "cell_type": "code",
   "execution_count": 24,
   "id": "dcba439f",
   "metadata": {},
   "outputs": [
    {
     "name": "stdout",
     "output_type": "stream",
     "text": [
      "X | O |  \n",
      "---------\n",
      "  | O |  \n",
      "---------\n",
      "X | O | X\n",
      "\n"
     ]
    }
   ],
   "source": [
    "game.move(2, 0, human)\n",
    "x, y = minimax(game, bot) \n",
    "game.move(x, y, bot)\n",
    "game.print_board() "
   ]
  },
  {
   "cell_type": "markdown",
   "id": "ee1a663e",
   "metadata": {},
   "source": [
    "Bot won ! There are however subtle ways that can make one think that the bot is not doing optimal. If for instance we move to (1, 0) instead of (2, 0) in our blunder move something unexpected would happen. "
   ]
  },
  {
   "cell_type": "code",
   "execution_count": 26,
   "id": "5876529a",
   "metadata": {},
   "outputs": [
    {
     "name": "stdout",
     "output_type": "stream",
     "text": [
      "X | O |  \n",
      "---------\n",
      "X | O |  \n",
      "---------\n",
      "O |   | X\n",
      "\n"
     ]
    }
   ],
   "source": [
    "game.move(1, 0, human)\n",
    "x, y = minimax(game, bot) \n",
    "game.move(x, y, bot)\n",
    "game.print_board() "
   ]
  },
  {
   "cell_type": "markdown",
   "id": "b5b357ef",
   "metadata": {},
   "source": [
    "Bot could have won simply by moving to (2, 1). It chose (2, 0) ,however. The reason is obvious. The bot checks the next moves in a top-to-bottom, left-to-right manner. Thus it considers (2, 0) first. After checking (2, 0) it can deterministically tell that moving to (2, 0) can lead to a win. Therefore after checking (2, 1) it won't change it's move to (2, 1) since (2, 1) and (2, 0) are both winner moves returning `1`. In other words the algorithm is ignorant of the depth leading to a win. This makes no difference and we can easily make minimax to prefer choices with less depth. "
   ]
  },
  {
   "cell_type": "markdown",
   "id": "f2832253",
   "metadata": {},
   "source": [
    "You can play tic-tac-toe and try everything for yourself in the cell below. "
   ]
  },
  {
   "cell_type": "code",
   "execution_count": 213,
   "id": "fdf0d072",
   "metadata": {},
   "outputs": [
    {
     "name": "stdout",
     "output_type": "stream",
     "text": [
      "X | O | X\n",
      "---------\n",
      "O | O | X\n",
      "---------\n",
      "X | X | O\n",
      "\n",
      "draw!\n"
     ]
    }
   ],
   "source": [
    "from IPython.display import clear_output \n",
    "game = State() \n",
    "def is_end_game() : \n",
    "    t = game.is_terminal() \n",
    "    return True if t != -2 else False \n",
    "\n",
    "while True : \n",
    "    if is_end_game() : \n",
    "        break \n",
    "    game.print_board() \n",
    "    print(\"choose your move: \") \n",
    "    x, y = map(int ,input().split(','))\n",
    "    game.move(x, y, human)\n",
    "    clear_output() \n",
    "    if is_end_game() : \n",
    "        break \n",
    "    x_, y_ = minimax(game, bot) \n",
    "    game.move(x_, y_, bot)\n",
    "p\n",
    "game.print_board()\n",
    "t = game.is_terminal() \n",
    "if t == 1: \n",
    "    print(\"You won!\") \n",
    "elif t == -1 : \n",
    "    print(\"Bot won!\") \n",
    "elif t == 0 : \n",
    "    print(\"draw!\") "
   ]
  }
 ],
 "metadata": {
  "kernelspec": {
   "display_name": "Python 3 (ipykernel)",
   "language": "python",
   "name": "python3"
  },
  "language_info": {
   "codemirror_mode": {
    "name": "ipython",
    "version": 3
   },
   "file_extension": ".py",
   "mimetype": "text/x-python",
   "name": "python",
   "nbconvert_exporter": "python",
   "pygments_lexer": "ipython3",
   "version": "3.8.8"
  }
 },
 "nbformat": 4,
 "nbformat_minor": 5
}
