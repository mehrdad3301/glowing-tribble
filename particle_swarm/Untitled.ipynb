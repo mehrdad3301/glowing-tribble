{
 "cells": [
  {
   "cell_type": "code",
   "execution_count": 1,
   "id": "46a50291",
   "metadata": {},
   "outputs": [],
   "source": [
    "import numpy as np\n",
    "from tqdm import tqdm\n",
    "from scipy.special import expit \n",
    "from sklearn.datasets import load_breast_cancer\n",
    "from sklearn.neighbors import KNeighborsClassifier\n",
    "from sklearn.model_selection import train_test_split"
   ]
  },
  {
   "cell_type": "code",
   "execution_count": 28,
   "id": "c545ad43",
   "metadata": {},
   "outputs": [],
   "source": [
    "data = load_breast_cancer()\n",
    "x, y = data.data, data.target\n",
    "x_train, x_test, y_train, y_test = train_test_split(x, y, test_size=0.33)"
   ]
  },
  {
   "cell_type": "code",
   "execution_count": 29,
   "id": "b84935ce",
   "metadata": {},
   "outputs": [],
   "source": [
    "KNN = KNeighborsClassifier(n_neighbors=1)"
   ]
  },
  {
   "cell_type": "code",
   "execution_count": 30,
   "id": "5447c33e",
   "metadata": {},
   "outputs": [
    {
     "name": "stdout",
     "output_type": "stream",
     "text": [
      "accuracy: 0.9148936170212766\n"
     ]
    }
   ],
   "source": [
    "KNN.fit(x_train, y_train) \n",
    "print(f'accuracy: {np.sum(y_test == KNN.predict(x_test)) / len(x_test)}'); "
   ]
  },
  {
   "cell_type": "code",
   "execution_count": 16,
   "id": "b0203e91",
   "metadata": {},
   "outputs": [
    {
     "name": "stderr",
     "output_type": "stream",
     "text": [
      "100%|██████████| 10/10 [00:14<00:00,  1.45s/it]\n"
     ]
    }
   ],
   "source": [
    "model = modelWrapper(x, y) \n",
    "optimizer = PSO(30, x.shape[1], model) \n",
    "features = optimizer.select_features(num_iter=10) "
   ]
  },
  {
   "cell_type": "code",
   "execution_count": 17,
   "id": "98d98fd3",
   "metadata": {},
   "outputs": [
    {
     "data": {
      "text/plain": [
       "0.9680851063829787"
      ]
     },
     "execution_count": 17,
     "metadata": {},
     "output_type": "execute_result"
    }
   ],
   "source": [
    "model.evaluate(features)"
   ]
  },
  {
   "cell_type": "code",
   "execution_count": null,
   "id": "729706ba",
   "metadata": {},
   "outputs": [],
   "source": []
  },
  {
   "cell_type": "code",
   "execution_count": 14,
   "id": "a1d0824a",
   "metadata": {},
   "outputs": [],
   "source": [
    "class modelWrapper(): \n",
    "    def __init__(self, x, y, model=None) : \n",
    "        self.model= model or KNeighborsClassifier(n_neighbors=1)\n",
    "        self.x_train, self.x_test, self.y_train, self.y_test = train_test_split(x, y, test_size=0.33)       \n",
    "    def evaluate(self, features) : \n",
    "        self.model.fit(self.x_train[:, np.where(features)[0]], self.y_train)\n",
    "        return np.sum(self.model.predict(self.x_test[:, np.where(features)[0]]) == self.y_test) / len(self.x_test)\n",
    "        \n",
    "class Particle : \n",
    "    \n",
    "    def __init__(self, dimension) : \n",
    "        self.position=np.random.randint(0, 2, size=(dimension))\n",
    "        self.velocity=np.zeros(dimension)\n",
    "        self.memory=self.position\n",
    "    \n",
    "class PSO : \n",
    "    \n",
    "    def __init__(self,\n",
    "                 num_particles=50, \n",
    "                 dimension=30,\n",
    "                 model=None) :\n",
    "        \n",
    "        self.model = model \n",
    "        self.dimension=dimension\n",
    "        self.particles = [Particle(dimension) for _ in range(num_particles)]\n",
    "        self.best, _ = self.update_global_best()\n",
    "        \n",
    "    def select_features(self, num_iter=100, w=0.8, c1=2, c2=2): \n",
    "        for _ in tqdm(range(num_iter)) : \n",
    "            for p in self.particles :    \n",
    "                r1, r2 = np.random.rand(2)\n",
    "                p.velocity = w * p.velocity + r1 * c1 * (p.memory - p.position) + \\\n",
    "                            r2 * c2 * (self.best.position - p.position)\n",
    "                p.velocity = np.clip(p.velocity, -4, 4)\n",
    "                p.position = (np.random.rand(self.dimension) < expit(p.velocity)).astype(int)\n",
    "                self.update_memory(p) \n",
    "            self.best, score = self.update_global_best()                \n",
    "        return self.best.position\n",
    "\n",
    "    def update_global_best(self) : \n",
    "        best = self.particles[0] \n",
    "        max_score = self.model.evaluate(best.position)\n",
    "        for p in self.particles : \n",
    "            score = self.model.evaluate(p.position)\n",
    "            if score > max_score : \n",
    "                max_score = score \n",
    "                best = p \n",
    "        return best, max_score\n",
    "    \n",
    "    def update_memory(self, p) : \n",
    "        if self.model.evaluate(p.position) > self.model.evaluate(p.memory) : \n",
    "            p.memory = p.position "
   ]
  },
  {
   "cell_type": "code",
   "execution_count": null,
   "id": "e01a43ac",
   "metadata": {},
   "outputs": [],
   "source": []
  }
 ],
 "metadata": {
  "kernelspec": {
   "display_name": "Python 3 (ipykernel)",
   "language": "python",
   "name": "python3"
  },
  "language_info": {
   "codemirror_mode": {
    "name": "ipython",
    "version": 3
   },
   "file_extension": ".py",
   "mimetype": "text/x-python",
   "name": "python",
   "nbconvert_exporter": "python",
   "pygments_lexer": "ipython3",
   "version": "3.8.8"
  }
 },
 "nbformat": 4,
 "nbformat_minor": 5
}
