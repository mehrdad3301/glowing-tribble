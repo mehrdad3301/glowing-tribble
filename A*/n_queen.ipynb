{
 "cells": [
  {
   "cell_type": "code",
   "execution_count": 19,
   "id": "72df05cb",
   "metadata": {},
   "outputs": [],
   "source": [
    "import numpy as np \n",
    "import matplotlib.pyplot as plt \n",
    "import seaborn as sns ; sns.set() ; \n",
    "from heapq import heappop, heappush \n",
    "from itertools import product"
   ]
  },
  {
   "cell_type": "code",
   "execution_count": 3,
   "id": "e37b9520",
   "metadata": {},
   "outputs": [],
   "source": [
    "class State: \n",
    "    \n",
    "    def __init__(self, points) :\n",
    "        self.points = points.copy()\n",
    "        \n",
    "    @classmethod \n",
    "    def random_points(cls, n) : \n",
    "        points = np.random.randint(\n",
    "                      0, n, size=n )\n",
    "        return cls(points)\n",
    "    \n",
    "    def next_states(self) : \n",
    "        p = self.points\n",
    "        for i, v in enumerate(p) : \n",
    "            x = v - 1 \n",
    "            while x >= 0 : \n",
    "                p[i] = x\n",
    "                yield State(p)\n",
    "                x -= 1 \n",
    "                \n",
    "            x = p[i] = v  \n",
    "            x += 1 \n",
    "            while x <= len(p) - 1 :  \n",
    "                p[i] = x \n",
    "                yield State(p)\n",
    "                x += 1 \n",
    "            \n",
    "            p[i] = v \n",
    "            \n",
    "    def print_state(self) : \n",
    "        p = self.points\n",
    "        for i,j in product(range(len(p)), \n",
    "                           repeat=2): \n",
    "            if j == p[i] : \n",
    "                print(\" * \", end=\"\")\n",
    "            else : \n",
    "                print(\" - \", end=\"\")\n",
    "                \n",
    "            if j == len(p) : \n",
    "                print(\"\\n\")\n",
    "    \n",
    "    def __lt__(self, other) : \n",
    "        return np.all(self.points < other.points)\n",
    "    \n",
    "    def __hash__(self) : \n",
    "        return hash(str(self.points))\n",
    "    \n",
    "    def __eq__(self, other) : \n",
    "        return True \n",
    "    "
   ]
  },
  {
   "cell_type": "code",
   "execution_count": 4,
   "id": "d5278810",
   "metadata": {},
   "outputs": [],
   "source": [
    "def heuristic(s) : \n",
    "    s = s.points \n",
    "    x = 0\n",
    "    for i, v in enumerate(s) : \n",
    "        for j, v_ in enumerate(s[i+1:]) :\n",
    "            if (v_ - v) / (j + 1) in [1,-1] : \n",
    "                x += 1 \n",
    "    return x + (len(s) - len(np.unique(s)))\n",
    "\n",
    "def search(s) : \n",
    "    heap = [(heuristic(s), s)]\n",
    "    visited = {s}\n",
    "    while heap : \n",
    "        h, v = heappop(heap) \n",
    "        if h == 0 : \n",
    "            return v.points\n",
    "        for next_ in v.next_states() : \n",
    "            if next_ not in visited : \n",
    "                h = heuristic(next_) \n",
    "                heappush(heap, (h, next_))\n",
    "                \n",
    "        visited |= {v}    "
   ]
  },
  {
   "cell_type": "code",
   "execution_count": 10,
   "id": "ac006262",
   "metadata": {},
   "outputs": [
    {
     "name": "stdout",
     "output_type": "stream",
     "text": [
      "143 ms ± 26.2 ms per loop (mean ± std. dev. of 7 runs, 10 loops each)\n",
      "203 ms ± 48.9 ms per loop (mean ± std. dev. of 7 runs, 10 loops each)\n",
      "The slowest run took 6.53 times longer than the fastest. This could mean that an intermediate result is being cached.\n",
      "461 ms ± 259 ms per loop (mean ± std. dev. of 7 runs, 1 loop each)\n",
      "The slowest run took 4.05 times longer than the fastest. This could mean that an intermediate result is being cached.\n",
      "692 ms ± 292 ms per loop (mean ± std. dev. of 7 runs, 1 loop each)\n",
      "The slowest run took 5.33 times longer than the fastest. This could mean that an intermediate result is being cached.\n",
      "893 ms ± 474 ms per loop (mean ± std. dev. of 7 runs, 1 loop each)\n",
      "The slowest run took 23.98 times longer than the fastest. This could mean that an intermediate result is being cached.\n",
      "1.78 s ± 1.91 s per loop (mean ± std. dev. of 7 runs, 1 loop each)\n",
      "The slowest run took 8.33 times longer than the fastest. This could mean that an intermediate result is being cached.\n",
      "1.57 s ± 1.07 s per loop (mean ± std. dev. of 7 runs, 1 loop each)\n",
      "The slowest run took 5.03 times longer than the fastest. This could mean that an intermediate result is being cached.\n",
      "1.72 s ± 894 ms per loop (mean ± std. dev. of 7 runs, 1 loop each)\n",
      "The slowest run took 6.94 times longer than the fastest. This could mean that an intermediate result is being cached.\n",
      "3.04 s ± 2.44 s per loop (mean ± std. dev. of 7 runs, 1 loop each)\n"
     ]
    }
   ],
   "source": [
    "timings = [] \n",
    "for i in range(8, 16 + 1) :\n",
    "    t = %timeit -o search(State.random_points(i))\n",
    "    timings += [t.timings]"
   ]
  },
  {
   "cell_type": "code",
   "execution_count": 33,
   "id": "50768685",
   "metadata": {},
   "outputs": [
    {
     "data": {
      "image/png": "[encoded data removed]",
      "text/plain": [
       "<Figure size 720x540 with 1 Axes>"
      ]
     },
     "metadata": {},
     "output_type": "display_data"
    }
   ],
   "source": [
    "fig = plt.gcf()\n",
    "fig.set_size_inches(10.0, 7.5)\n",
    "plt.violinplot(np.array(timings) * 1e3, showmedians=True);\n",
    "plt.ylabel(\"time(ms)\");\n",
    "plt.xlabel(\"queens\");\n",
    "plt.savefig(\"greedy_results.png\")"
   ]
  },
  {
   "cell_type": "code",
   "execution_count": null,
   "id": "348c6972",
   "metadata": {},
   "outputs": [],
   "source": []
  }
 ],
 "metadata": {
  "kernelspec": {
   "display_name": "Python 3 (ipykernel)",
   "language": "python",
   "name": "python3"
  },
  "language_info": {
   "codemirror_mode": {
    "name": "ipython",
    "version": 3
   },
   "file_extension": ".py",
   "mimetype": "text/x-python",
   "name": "python",
   "nbconvert_exporter": "python",
   "pygments_lexer": "ipython3",
   "version": "3.8.8"
  }
 },
 "nbformat": 4,
 "nbformat_minor": 5
}
